{
  "nbformat": 4,
  "nbformat_minor": 0,
  "metadata": {
    "colab": {
      "provenance": [],
      "authorship_tag": "ABX9TyP/lyMg0O+lEfGJz8VaAMJc",
      "include_colab_link": true
    },
    "kernelspec": {
      "name": "python3",
      "display_name": "Python 3"
    },
    "language_info": {
      "name": "python"
    }
  },
  "cells": [
    {
      "cell_type": "markdown",
      "metadata": {
        "id": "view-in-github",
        "colab_type": "text"
      },
      "source": [
        "<a href=\"https://colab.research.google.com/github/tphlabs/timetable_validity/blob/main/timetable.ipynb\" target=\"_parent\"><img src=\"https://colab.research.google.com/assets/colab-badge.svg\" alt=\"Open In Colab\"/></a>"
      ]
    },
    {
      "cell_type": "markdown",
      "source": [
        "# Technion courses feasibility check\n",
        "\n",
        "Evgeny Kolonsky, 2024\n",
        "v.0.1.1\n",
        "\n",
        "Each semester a student of Technion chooses an educational track, taking number of courses out of catalogue published by the institution.\n",
        "\n",
        "A course has a set of groups with particular slots in a week timetable.\n",
        "\n",
        "Any changes in catalogue or building a custom educational track may require feasibility check: whether chosen set of courses (track) interfere or not.\n",
        "\n",
        "Here the algorythm for feasibility check is implemented.\n",
        "\n",
        "Input data:\n",
        "- courses catalogue, fetched from official source\n",
        "- educational track as a list of chosen courses\n",
        "\n",
        "Output:\n",
        "- list of possible implementations\n",
        "- rating of groups with 0 for groups than can not be chosen in any case.\n"
      ],
      "metadata": {
        "id": "OnSCT3u6Sb-R"
      }
    },
    {
      "cell_type": "code",
      "source": [
        "import requests\n",
        "import json\n",
        "import numpy as np\n",
        "import itertools\n",
        "\n",
        "# full catalogue of courses fetched from SAP\n",
        "# semester 2024_201 (winter 24/25)\n",
        "# source code: https://github.com/michael-maltsev/technion-sap-info-fetcher\n",
        "url = 'https://raw.githubusercontent.com/tphlabs/timetable_validity/main/2024_201.json'\n",
        "response = requests.get(url)\n",
        "data = json.loads(response.text)\n",
        "print(f'Loaded {len(data)} courses')\n"
      ],
      "metadata": {
        "id": "hb8juU5ssHAo",
        "outputId": "a2b6cc94-8b3c-4bdb-e56c-4d94ba633c0f",
        "colab": {
          "base_uri": "https://localhost:8080/"
        }
      },
      "execution_count": 2,
      "outputs": [
        {
          "output_type": "stream",
          "name": "stdout",
          "text": [
            "Loaded 1058 courses\n"
          ]
        }
      ]
    },
    {
      "cell_type": "code",
      "source": [
        "# display for example courses assosiated with Physics Dept\n",
        "for course in data:\n",
        "  course_dept = course['general']['פקולטה']\n",
        "  course_name = course['general']['שם מקצוע']\n",
        "  course_id = course['general']['מספר מקצוע']\n",
        "  if course_dept != 'הפקולטה לפיזיקה':\n",
        "    continue\n",
        "  print(course_id, course_name)"
      ],
      "metadata": {
        "colab": {
          "base_uri": "https://localhost:8080/"
        },
        "id": "OI1EB-u23WG1",
        "outputId": "034c3fef-bc56-48b1-94ab-e6f059db9e66"
      },
      "execution_count": 3,
      "outputs": [
        {
          "output_type": "stream",
          "name": "stdout",
          "text": [
            "01140020 מעבדה לפיסיקה 1מ'\n",
            "01140021 מעבדה לפיסיקה  2מ\n",
            "01140030 מעבדה לפיסיקה 2 מח'\n",
            "01140032 מעבדה לפיסיקה 1ח'\n",
            "01140034 מעבדה לפיסיקה 2מפ'\n",
            "01140035 מעבדה לפיסיקה 3 - גלים\n",
            "01140037 מעבדה לפיסיקה 4מח'\n",
            "01140038 מעבדה לפיזיקה - גלים - 3מפ'\n",
            "01140051 פיסיקה 1\n",
            "01140052 פיסיקה 2\n",
            "01140054 פיסיקה 3\n",
            "01140071 פיסיקה 1מ\n",
            "01140073 פיזיקה קוונטית להנדסה\n",
            "01140074 פיסיקה 1פ'\n",
            "01140075 פיסיקה 2ממ\n",
            "01140077 פיסיקה 1ל\n",
            "01140081 מעבדה לפיסיקה 1\n",
            "01140082 מעבדה לפיסיקה 2\n",
            "01140086 גלים\n",
            "01140101 מכניקה אנליטית\n",
            "01140226 דו\"ח סגל מחקר סתיו\n",
            "01140229 פרויקט\n",
            "01140248 פיסיקה 1 ר\n",
            "01140250 מעבדה לפיסיקה 5ת\n",
            "01140251 מעבדה לפיסיקה 6ת\n",
            "01140252 פרויקט ת\n",
            "01150204 פיסיקה קוונטית 2\n",
            "01160028 סמינר בפרקים נבחרים בפיסיקה חורף\n",
            "01160029 מבוא לביופיסיקה\n",
            "01160030 סמינר בפרקים נבחרים בפיסיקה-אביב\n",
            "01160034 מערכות קוונטיות מקרוסקופיות\n",
            "01160040 אינפורמציה קוונטית מתקדמת\n",
            "01160083 טכנולוגיות קוונטיות\n",
            "01160110 פיסיקה של האטמוספירה\n",
            "01160217 פיסיקה של מצב מוצק\n",
            "01160354 אסטרופיסיקה וקוסמולוגיה\n",
            "01180018 תיאורית מערכות רבות גופים\n",
            "01180076 מעבדה מתקדמת\n",
            "01180085 פיסיקה גלקטית 1\n",
            "01180122 תורת הקוונטים 3\n",
            "01180129 מכניקה סטטיסטית 2\n",
            "01180130 מבוא ליחסות כללית\n",
            "01180133 תורת השדות הקוונטית 2\n",
            "01180137 קרינה וחומר קוונטי\n",
            "01180141 נושאים נבחרים בביופיסיקה וחומר רך\n",
            "01180143 תורת הקוונטים של החומר 2\n",
            "01180145 פיזיקה של קרינת הרקע הקוסמית\n"
          ]
        }
      ]
    },
    {
      "cell_type": "code",
      "source": [
        "# course numbers of courses to be checked for compatibility\n",
        "my_courses = ['01140052','01140021', '01140034']\n",
        "\n",
        "\n",
        "# each course accompanied with a list of timeslots\n",
        "# one timeslot takes 1, 2 or 3 hours in a day\n",
        "# a group may have 1 or more timeslots in a week\n",
        "\n",
        "# display slots for chosen courses\n",
        "for course in data:\n",
        "  course_id = course['general']['מספר מקצוע']\n",
        "  if course_id in my_courses:\n",
        "    print(course_id)\n",
        "    for slot in course['schedule']:\n",
        "      print(slot)"
      ],
      "metadata": {
        "colab": {
          "base_uri": "https://localhost:8080/"
        },
        "id": "-KM4Dn1DS5QY",
        "outputId": "618c0f27-cb13-4c3f-d209-1678f972a1b5"
      },
      "execution_count": 4,
      "outputs": [
        {
          "output_type": "stream",
          "name": "stdout",
          "text": [
            "01140021\n",
            "{'קבוצה': 19, 'סוג': 'מעבדה', 'יום': 'ראשון', 'שעה': '14:30 - 17:30', 'בניין': '', 'חדר': 0, 'מרצה/מתרגל': '', 'מס.': 19}\n",
            "{'קבוצה': 42, 'סוג': 'מעבדה', 'יום': 'שלישי', 'שעה': '15:30 - 18:30', 'בניין': '', 'חדר': 0, 'מרצה/מתרגל': '', 'מס.': 42}\n",
            "{'קבוצה': 43, 'סוג': 'מעבדה', 'יום': 'שלישי', 'שעה': '15:30 - 18:30', 'בניין': '', 'חדר': 0, 'מרצה/מתרגל': '', 'מס.': 43}\n",
            "{'קבוצה': 54, 'סוג': 'מעבדה', 'יום': 'רביעי', 'שעה': '14:30 - 17:30', 'בניין': '', 'חדר': 0, 'מרצה/מתרגל': '', 'מס.': 54}\n",
            "{'קבוצה': 55, 'סוג': 'מעבדה', 'יום': 'רביעי', 'שעה': '14:30 - 17:30', 'בניין': '', 'חדר': 0, 'מרצה/מתרגל': '', 'מס.': 55}\n",
            "{'קבוצה': 63, 'סוג': 'מעבדה', 'יום': 'חמישי', 'שעה': '11:30 - 14:30', 'בניין': '', 'חדר': 0, 'מרצה/מתרגל': '', 'מס.': 63}\n",
            "01140034\n",
            "{'קבוצה': 42, 'סוג': 'מעבדה', 'יום': 'שלישי', 'שעה': '15:30 - 18:30', 'בניין': '', 'חדר': 0, 'מרצה/מתרגל': '', 'מס.': 42}\n",
            "{'קבוצה': 42, 'סוג': 'פרויקט', 'יום': 'רביעי', 'שעה': '14:30 - 17:30', 'בניין': '', 'חדר': 0, 'מרצה/מתרגל': '', 'מס.': 42}\n",
            "01140052\n",
            "{'קבוצה': 12, 'סוג': 'תרגול', 'יום': 'שלישי', 'שעה': '14:30 - 15:30', 'בניין': '', 'חדר': 0, 'מרצה/מתרגל': \"גב' הילה גלנץ\", 'מס.': 12}\n",
            "{'קבוצה': 12, 'סוג': 'הרצאה', 'יום': 'שני', 'שעה': '08:30 - 10:30', 'בניין': '', 'חדר': 0, 'מרצה/מתרגל': 'ד\"ר זיו מיקוליצקי', 'מס.': 10}\n",
            "{'קבוצה': 12, 'סוג': 'הרצאה', 'יום': 'רביעי', 'שעה': '08:30 - 09:30', 'בניין': '', 'חדר': 0, 'מרצה/מתרגל': 'ד\"ר זיו מיקוליצקי', 'מס.': 10}\n",
            "{'קבוצה': 13, 'סוג': 'תרגול', 'יום': 'רביעי', 'שעה': '09:30 - 10:30', 'בניין': '', 'חדר': 0, 'מרצה/מתרגל': \"גב' נעה קשת\", 'מס.': 13}\n",
            "{'קבוצה': 13, 'סוג': 'הרצאה', 'יום': 'שני', 'שעה': '08:30 - 10:30', 'בניין': '', 'חדר': 0, 'מרצה/מתרגל': 'ד\"ר זיו מיקוליצקי', 'מס.': 10}\n",
            "{'קבוצה': 13, 'סוג': 'הרצאה', 'יום': 'רביעי', 'שעה': '08:30 - 09:30', 'בניין': '', 'חדר': 0, 'מרצה/מתרגל': 'ד\"ר זיו מיקוליצקי', 'מס.': 10}\n",
            "{'קבוצה': 15, 'סוג': 'תרגול', 'יום': 'רביעי', 'שעה': '16:30 - 17:30', 'בניין': '', 'חדר': 0, 'מרצה/מתרגל': \"גב' נעה קשת\", 'מס.': 15}\n",
            "{'קבוצה': 15, 'סוג': 'הרצאה', 'יום': 'שני', 'שעה': '08:30 - 10:30', 'בניין': '', 'חדר': 0, 'מרצה/מתרגל': 'ד\"ר זיו מיקוליצקי', 'מס.': 10}\n",
            "{'קבוצה': 15, 'סוג': 'הרצאה', 'יום': 'רביעי', 'שעה': '08:30 - 09:30', 'בניין': '', 'חדר': 0, 'מרצה/מתרגל': 'ד\"ר זיו מיקוליצקי', 'מס.': 10}\n",
            "{'קבוצה': 21, 'סוג': 'תרגול', 'יום': 'שלישי', 'שעה': '11:30 - 12:30', 'בניין': '', 'חדר': 0, 'מרצה/מתרגל': \"גב' הילה גלנץ\", 'מס.': 21}\n",
            "{'קבוצה': 21, 'סוג': 'הרצאה', 'יום': 'שלישי', 'שעה': '12:30 - 14:30', 'בניין': '', 'חדר': 0, 'מרצה/מתרגל': 'ד\"ר אורן שפיר', 'מס.': 20}\n",
            "{'קבוצה': 21, 'סוג': 'הרצאה', 'יום': 'חמישי', 'שעה': '09:30 - 10:30', 'בניין': '', 'חדר': 0, 'מרצה/מתרגל': 'ד\"ר אורן שפיר', 'מס.': 20}\n",
            "{'קבוצה': 23, 'סוג': 'תרגול', 'יום': 'ראשון', 'שעה': '15:30 - 16:30', 'בניין': '', 'חדר': 0, 'מרצה/מתרגל': \"גב' נועה קונפורטי\", 'מס.': 23}\n",
            "{'קבוצה': 23, 'סוג': 'הרצאה', 'יום': 'שלישי', 'שעה': '12:30 - 14:30', 'בניין': '', 'חדר': 0, 'מרצה/מתרגל': 'ד\"ר אורן שפיר', 'מס.': 20}\n",
            "{'קבוצה': 23, 'סוג': 'הרצאה', 'יום': 'חמישי', 'שעה': '09:30 - 10:30', 'בניין': '', 'חדר': 0, 'מרצה/מתרגל': 'ד\"ר אורן שפיר', 'מס.': 20}\n",
            "{'קבוצה': 24, 'סוג': 'הרצאה', 'יום': 'שלישי', 'שעה': '12:30 - 14:30', 'בניין': '', 'חדר': 0, 'מרצה/מתרגל': 'ד\"ר אורן שפיר', 'מס.': 20}\n",
            "{'קבוצה': 24, 'סוג': 'הרצאה', 'יום': 'חמישי', 'שעה': '09:30 - 10:30', 'בניין': '', 'חדר': 0, 'מרצה/מתרגל': 'ד\"ר אורן שפיר', 'מס.': 20}\n",
            "{'קבוצה': 24, 'סוג': 'תרגול', 'יום': 'חמישי', 'שעה': '10:30 - 11:30', 'בניין': '', 'חדר': 0, 'מרצה/מתרגל': \"גב' נועה קונפורטי\", 'מס.': 24}\n",
            "{'קבוצה': 86, 'סוג': 'תרגול', 'יום': 'חמישי', 'שעה': '14:30 - 15:30', 'בניין': '', 'חדר': 0, 'מרצה/מתרגל': '', 'מס.': 86}\n",
            "{'קבוצה': 86, 'סוג': 'הרצאה', 'יום': 'שלישי', 'שעה': '08:30 - 11:30', 'בניין': '', 'חדר': 0, 'מרצה/מתרגל': '', 'מס.': 86}\n"
          ]
        }
      ]
    },
    {
      "cell_type": "code",
      "source": [
        "# function to make hoursmap as 2d np array days x hours\n",
        "# we read day and hours out of text description in timeslot\n",
        "# suggested that all timeslots start and xx:30, between 08:30 and 19:30,\n",
        "# which is not quite so for all published courses (sports may be exception)\n",
        "\n",
        "WEEK = ['ראשון','שני','שלישי','רביעי','חמישי']\n",
        "SLOTS = [f'{h:02d}:30' for  h in range(8, 19)]\n",
        "def EMPTY_MAP():\n",
        "  return np.zeros((len(WEEK), len(SLOTS)), dtype=int)\n",
        "\n",
        "def parse_slot(slot):\n",
        "  group_type = slot['סוג']\n",
        "  group_number = slot['קבוצה']\n",
        "  group_hour = slot['שעה']\n",
        "  group_day = slot['יום']\n",
        "  hours_map = EMPTY_MAP()\n",
        "  hours_from, hours_to = group_hour.split(' - ')\n",
        "  if hours_from not in SLOTS or hours_to not in SLOTS:\n",
        "    # error message: irregular hours\n",
        "    return 0\n",
        "  hours_from_ind, hours_to_ind = SLOTS.index(hours_from), SLOTS.index(hours_to)\n",
        "  days_ind = WEEK.index(group_day)\n",
        "  hours_map[days_ind, hours_from_ind:hours_to_ind] = 1\n",
        "  return hours_map\n"
      ],
      "metadata": {
        "id": "ziMwFoVngmHl"
      },
      "execution_count": 5,
      "outputs": []
    },
    {
      "cell_type": "code",
      "source": [
        "# just an example to test the algorythm: lets read one slot\n",
        "slots = [\n",
        "    {'קבוצה': 12, 'סוג': 'תרגול', 'יום': 'שלישי', 'שעה': '14:30 - 15:30', 'בניין': '', 'חדר': 0, 'מרצה/מתרגל': \"גב' הילה גלנץ\", 'מס.': 12},\n",
        "    {'קבוצה': 12, 'סוג': 'הרצאה', 'יום': 'שני', 'שעה': '08:30 - 10:30', 'בניין': '', 'חדר': 0, 'מרצה/מתרגל': 'ד\"ר זיו מיקוליצקי', 'מס.': 10},\n",
        "    {'קבוצה': 12, 'סוג': 'הרצאה', 'יום': 'רביעי', 'שעה': '08:30 - 09:30', 'בניין': '', 'חדר': 0, 'מרצה/מתרגל': 'ד\"ר זיו מיקוליצקי', 'מס.': 10},\n",
        "    {'קבוצה': 13, 'סוג': 'תרגול', 'יום': 'רביעי', 'שעה': '09:30 - 10:30', 'בניין': '', 'חדר': 0, 'מרצה/מתרגל': \"גב' נעה קשת\", 'מס.': 13},\n",
        "    {'קבוצה': 13, 'סוג': 'הרצאה', 'יום': 'שני', 'שעה': '08:30 - 10:30', 'בניין': '', 'חדר': 0, 'מרצה/מתרגל': 'ד\"ר זיו מיקוליצקי', 'מס.': 10},\n",
        "    {'קבוצה': 13, 'סוג': 'הרצאה', 'יום': 'רביעי', 'שעה': '08:30 - 09:30', 'בניין': '', 'חדר': 0, 'מרצה/מתרגל': 'ד\"ר זיו מיקוליצקי', 'מס.': 10},\n",
        "    {'קבוצה': 15, 'סוג': 'תרגול', 'יום': 'רביעי', 'שעה': '16:30 - 17:30', 'בניין': '', 'חדר': 0, 'מרצה/מתרגל': \"גב' נעה קשת\", 'מס.': 15},\n",
        "    {'קבוצה': 15, 'סוג': 'הרצאה', 'יום': 'שני', 'שעה': '08:30 - 10:30', 'בניין': '', 'חדר': 0, 'מרצה/מתרגל': 'ד\"ר זיו מיקוליצקי', 'מס.': 10},\n",
        "    {'קבוצה': 15, 'סוג': 'הרצאה', 'יום': 'רביעי', 'שעה': '08:30 - 09:30', 'בניין': '', 'חדר': 0, 'מרצה/מתרגל': 'ד\"ר זיו מיקוליצקי', 'מס.': 10},\n",
        "    {'קבוצה': 21, 'סוג': 'תרגול', 'יום': 'שלישי', 'שעה': '11:30 - 12:30', 'בניין': '', 'חדר': 0, 'מרצה/מתרגל': \"גב' הילה גלנץ\", 'מס.': 21},\n",
        "    {'קבוצה': 21, 'סוג': 'הרצאה', 'יום': 'שלישי', 'שעה': '12:30 - 14:30', 'בניין': '', 'חדר': 0, 'מרצה/מתרגל': 'ד\"ר אורן שפיר', 'מס.': 20},\n",
        "    {'קבוצה': 21, 'סוג': 'הרצאה', 'יום': 'חמישי', 'שעה': '09:30 - 10:30', 'בניין': '', 'חדר': 0, 'מרצה/מתרגל': 'ד\"ר אורן שפיר', 'מס.': 20},\n",
        "    {'קבוצה': 23, 'סוג': 'תרגול', 'יום': 'ראשון', 'שעה': '15:30 - 16:30', 'בניין': '', 'חדר': 0, 'מרצה/מתרגל': \"גב' נועה קונפורטי\", 'מס.': 23},\n",
        "    {'קבוצה': 23, 'סוג': 'הרצאה', 'יום': 'שלישי', 'שעה': '12:30 - 14:30', 'בניין': '', 'חדר': 0, 'מרצה/מתרגל': 'ד\"ר אורן שפיר', 'מס.': 20},\n",
        "    {'קבוצה': 23, 'סוג': 'הרצאה', 'יום': 'חמישי', 'שעה': '09:30 - 10:30', 'בניין': '', 'חדר': 0, 'מרצה/מתרגל': 'ד\"ר אורן שפיר', 'מס.': 20},\n",
        "    {'קבוצה': 24, 'סוג': 'הרצאה', 'יום': 'שלישי', 'שעה': '12:30 - 14:30', 'בניין': '', 'חדר': 0, 'מרצה/מתרגל': 'ד\"ר אורן שפיר', 'מס.': 20},\n",
        "    {'קבוצה': 24, 'סוג': 'הרצאה', 'יום': 'חמישי', 'שעה': '09:30 - 10:30', 'בניין': '', 'חדר': 0, 'מרצה/מתרגל': 'ד\"ר אורן שפיר', 'מס.': 20},\n",
        "    {'קבוצה': 24, 'סוג': 'תרגול', 'יום': 'חמישי', 'שעה': '10:30 - 11:30', 'בניין': '', 'חדר': 0, 'מרצה/מתרגל': \"גב' נועה קונפורטי\", 'מס.': 24},\n",
        "    {'קבוצה': 86, 'סוג': 'תרגול', 'יום': 'חמישי', 'שעה': '14:30 - 15:30', 'בניין': '', 'חדר': 0, 'מרצה/מתרגל': '', 'מס.': 86},\n",
        "    {'קבוצה': 86, 'סוג': 'הרצאה', 'יום': 'שלישי', 'שעה': '08:30 - 11:30', 'בניין': '', 'חדר': 0, 'מרצה/מתרגל': '', 'מס.': 86}\n",
        "    ]\n",
        "print(slots[0])\n",
        "print(parse_slot(slots[0]))\n"
      ],
      "metadata": {
        "id": "WGjTpIXFlgbf",
        "outputId": "8197b5a5-f5ce-4c5b-e3b1-ca2160990841",
        "colab": {
          "base_uri": "https://localhost:8080/"
        }
      },
      "execution_count": 6,
      "outputs": [
        {
          "output_type": "stream",
          "name": "stdout",
          "text": [
            "{'קבוצה': 12, 'סוג': 'תרגול', 'יום': 'שלישי', 'שעה': '14:30 - 15:30', 'בניין': '', 'חדר': 0, 'מרצה/מתרגל': \"גב' הילה גלנץ\", 'מס.': 12}\n",
            "[[0 0 0 0 0 0 0 0 0 0 0]\n",
            " [0 0 0 0 0 0 0 0 0 0 0]\n",
            " [0 0 0 0 0 0 1 0 0 0 0]\n",
            " [0 0 0 0 0 0 0 0 0 0 0]\n",
            " [0 0 0 0 0 0 0 0 0 0 0]]\n"
          ]
        }
      ]
    },
    {
      "cell_type": "code",
      "source": [
        "# one more test:\n",
        "# let's aggregate hour map for group 12, having 3 slots in a week\n",
        "hours_map = EMPTY_MAP()\n",
        "for slot in slots:\n",
        "  if slot['קבוצה'] == 12:\n",
        "    hours_map += parse_slot(slot)\n",
        "    print(slot)\n",
        "print(hours_map)"
      ],
      "metadata": {
        "id": "jhw2F1Yilpss",
        "outputId": "b27167d5-91e3-4a72-8480-233770d948a5",
        "colab": {
          "base_uri": "https://localhost:8080/"
        }
      },
      "execution_count": null,
      "outputs": [
        {
          "output_type": "stream",
          "name": "stdout",
          "text": [
            "{'קבוצה': 12, 'סוג': 'תרגול', 'יום': 'שלישי', 'שעה': '14:30 - 15:30', 'בניין': '', 'חדר': 0, 'מרצה/מתרגל': \"גב' הילה גלנץ\", 'מס.': 12}\n",
            "{'קבוצה': 12, 'סוג': 'הרצאה', 'יום': 'שני', 'שעה': '08:30 - 10:30', 'בניין': '', 'חדר': 0, 'מרצה/מתרגל': 'ד\"ר זיו מיקוליצקי', 'מס.': 10}\n",
            "{'קבוצה': 12, 'סוג': 'הרצאה', 'יום': 'רביעי', 'שעה': '08:30 - 09:30', 'בניין': '', 'חדר': 0, 'מרצה/מתרגל': 'ד\"ר זיו מיקוליצקי', 'מס.': 10}\n",
            "[[0 0 0 0 0 0 0 0 0 0 0]\n",
            " [1 1 0 0 0 0 0 0 0 0 0]\n",
            " [0 0 0 0 0 0 1 0 0 0 0]\n",
            " [1 0 0 0 0 0 0 0 0 0 0]\n",
            " [0 0 0 0 0 0 0 0 0 0 0]]\n"
          ]
        }
      ]
    },
    {
      "cell_type": "code",
      "source": [
        "# activity is a combination of course and group\n",
        "# here we build a hourmap for each activity\n",
        "# and display result\n",
        "\n",
        "activity = {}\n",
        "\n",
        "for course in data:\n",
        "  course_id = course['general']['מספר מקצוע']\n",
        "  if course_id not in my_courses:\n",
        "    continue\n",
        "\n",
        "  activity[course_id] = {}\n",
        "  slots = course['schedule']\n",
        "  for slot in slots:\n",
        "    group_id = slot['קבוצה']\n",
        "\n",
        "    # aggregate hour maps for groups as lecture/practice\n",
        "    # having more than one timeslot in a week\n",
        "    activity[course_id][group_id] = \\\n",
        "      activity[course_id].get(group_id, EMPTY_MAP()) + parse_slot(slot)\n",
        "    #if key not in activity[course_id]:\n",
        "    #  activity[course_id][key] = parse_slot(slot)\n",
        "    #else:\n",
        "    #  activity[course_id][key] += parse_slot(slot)\n",
        "\n",
        "# display activities with their hourmaps\n",
        "for course_id in activity:\n",
        "  for group_id in activity[course_id]:\n",
        "    print(course_id, group_id)\n",
        "    print(activity[course_id][group_id])\n",
        "\n"
      ],
      "metadata": {
        "colab": {
          "base_uri": "https://localhost:8080/"
        },
        "collapsed": true,
        "id": "NexB3uCBkzBK",
        "outputId": "a8b1a50c-ef45-43b9-f320-0095c413dedd"
      },
      "execution_count": 7,
      "outputs": [
        {
          "output_type": "stream",
          "name": "stdout",
          "text": [
            "01140021 19\n",
            "[[0 0 0 0 0 0 1 1 1 0 0]\n",
            " [0 0 0 0 0 0 0 0 0 0 0]\n",
            " [0 0 0 0 0 0 0 0 0 0 0]\n",
            " [0 0 0 0 0 0 0 0 0 0 0]\n",
            " [0 0 0 0 0 0 0 0 0 0 0]]\n",
            "01140021 42\n",
            "[[0 0 0 0 0 0 0 0 0 0 0]\n",
            " [0 0 0 0 0 0 0 0 0 0 0]\n",
            " [0 0 0 0 0 0 0 1 1 1 0]\n",
            " [0 0 0 0 0 0 0 0 0 0 0]\n",
            " [0 0 0 0 0 0 0 0 0 0 0]]\n",
            "01140021 43\n",
            "[[0 0 0 0 0 0 0 0 0 0 0]\n",
            " [0 0 0 0 0 0 0 0 0 0 0]\n",
            " [0 0 0 0 0 0 0 1 1 1 0]\n",
            " [0 0 0 0 0 0 0 0 0 0 0]\n",
            " [0 0 0 0 0 0 0 0 0 0 0]]\n",
            "01140021 54\n",
            "[[0 0 0 0 0 0 0 0 0 0 0]\n",
            " [0 0 0 0 0 0 0 0 0 0 0]\n",
            " [0 0 0 0 0 0 0 0 0 0 0]\n",
            " [0 0 0 0 0 0 1 1 1 0 0]\n",
            " [0 0 0 0 0 0 0 0 0 0 0]]\n",
            "01140021 55\n",
            "[[0 0 0 0 0 0 0 0 0 0 0]\n",
            " [0 0 0 0 0 0 0 0 0 0 0]\n",
            " [0 0 0 0 0 0 0 0 0 0 0]\n",
            " [0 0 0 0 0 0 1 1 1 0 0]\n",
            " [0 0 0 0 0 0 0 0 0 0 0]]\n",
            "01140021 63\n",
            "[[0 0 0 0 0 0 0 0 0 0 0]\n",
            " [0 0 0 0 0 0 0 0 0 0 0]\n",
            " [0 0 0 0 0 0 0 0 0 0 0]\n",
            " [0 0 0 0 0 0 0 0 0 0 0]\n",
            " [0 0 0 1 1 1 0 0 0 0 0]]\n",
            "01140034 42\n",
            "[[0 0 0 0 0 0 0 0 0 0 0]\n",
            " [0 0 0 0 0 0 0 0 0 0 0]\n",
            " [0 0 0 0 0 0 0 1 1 1 0]\n",
            " [0 0 0 0 0 0 1 1 1 0 0]\n",
            " [0 0 0 0 0 0 0 0 0 0 0]]\n",
            "01140052 12\n",
            "[[0 0 0 0 0 0 0 0 0 0 0]\n",
            " [1 1 0 0 0 0 0 0 0 0 0]\n",
            " [0 0 0 0 0 0 1 0 0 0 0]\n",
            " [1 0 0 0 0 0 0 0 0 0 0]\n",
            " [0 0 0 0 0 0 0 0 0 0 0]]\n",
            "01140052 13\n",
            "[[0 0 0 0 0 0 0 0 0 0 0]\n",
            " [1 1 0 0 0 0 0 0 0 0 0]\n",
            " [0 0 0 0 0 0 0 0 0 0 0]\n",
            " [1 1 0 0 0 0 0 0 0 0 0]\n",
            " [0 0 0 0 0 0 0 0 0 0 0]]\n",
            "01140052 15\n",
            "[[0 0 0 0 0 0 0 0 0 0 0]\n",
            " [1 1 0 0 0 0 0 0 0 0 0]\n",
            " [0 0 0 0 0 0 0 0 0 0 0]\n",
            " [1 0 0 0 0 0 0 0 1 0 0]\n",
            " [0 0 0 0 0 0 0 0 0 0 0]]\n",
            "01140052 21\n",
            "[[0 0 0 0 0 0 0 0 0 0 0]\n",
            " [0 0 0 0 0 0 0 0 0 0 0]\n",
            " [0 0 0 1 1 1 0 0 0 0 0]\n",
            " [0 0 0 0 0 0 0 0 0 0 0]\n",
            " [0 1 0 0 0 0 0 0 0 0 0]]\n",
            "01140052 23\n",
            "[[0 0 0 0 0 0 0 1 0 0 0]\n",
            " [0 0 0 0 0 0 0 0 0 0 0]\n",
            " [0 0 0 0 1 1 0 0 0 0 0]\n",
            " [0 0 0 0 0 0 0 0 0 0 0]\n",
            " [0 1 0 0 0 0 0 0 0 0 0]]\n",
            "01140052 24\n",
            "[[0 0 0 0 0 0 0 0 0 0 0]\n",
            " [0 0 0 0 0 0 0 0 0 0 0]\n",
            " [0 0 0 0 1 1 0 0 0 0 0]\n",
            " [0 0 0 0 0 0 0 0 0 0 0]\n",
            " [0 1 1 0 0 0 0 0 0 0 0]]\n",
            "01140052 86\n",
            "[[0 0 0 0 0 0 0 0 0 0 0]\n",
            " [0 0 0 0 0 0 0 0 0 0 0]\n",
            " [1 1 1 0 0 0 0 0 0 0 0]\n",
            " [0 0 0 0 0 0 0 0 0 0 0]\n",
            " [0 0 0 0 0 0 1 0 0 0 0]]\n"
          ]
        }
      ]
    },
    {
      "cell_type": "code",
      "source": [
        "# here is the cell  where all possible combination of groups for each activity are created\n",
        "# and checked against feasibility by aggregating their hour maps\n",
        "# feasible combination has only ones and zeroes in aggregated hours map\n",
        "# 2 and more means activities overlapping\n",
        "\n",
        "# list of iterators: for each course all groups\n",
        "combins = [\n",
        "            [f'{course}_{group}' for group in activity[course]]\n",
        "            for course in activity.keys()\n",
        "         ]\n",
        "\n",
        "\n",
        "rating = {} # group rating counter\n",
        "\n",
        "print('Feasible combinations:')\n",
        "for combination in itertools.product(*combins):\n",
        "    # init hourmap with zeroes\n",
        "    check = EMPTY_MAP()\n",
        "\n",
        "    for group in combination:\n",
        "      # init counter if met 1st time\n",
        "      rating[group] = rating.get(group, 0)\n",
        "      # extract course and group ids from element in combinations\n",
        "      course_id, group_id = group.split('_')\n",
        "      # aggregate hours for groups in combination\n",
        "      check += activity[course_id][int(group_id)]\n",
        "    # check aggregated hourmap against overload criterion\n",
        "    if np.sum(check > 1) > 0: #\n",
        "      continue\n",
        "    # print out combination that meets feasibility criteria\n",
        "    print(combination)\n",
        "    #print(check)\n",
        "\n",
        "    # aggregate rating counter\n",
        "    for group in combination:\n",
        "      rating[group] += 1\n",
        "\n",
        "print('Group rating:')\n",
        "for group in sorted(rating):\n",
        "  print(f'{group}: {rating[group]}')"
      ],
      "metadata": {
        "colab": {
          "base_uri": "https://localhost:8080/"
        },
        "collapsed": true,
        "id": "K0QwsSeJoXf9",
        "outputId": "048e67c1-66d8-4de2-fbde-b0f5847e89e3"
      },
      "execution_count": 9,
      "outputs": [
        {
          "output_type": "stream",
          "name": "stdout",
          "text": [
            "Feasible combinations:\n",
            "('01140021_19', '01140034_42', '01140052_12')\n",
            "('01140021_19', '01140034_42', '01140052_13')\n",
            "('01140021_19', '01140034_42', '01140052_21')\n",
            "('01140021_19', '01140034_42', '01140052_24')\n",
            "('01140021_19', '01140034_42', '01140052_86')\n",
            "('01140021_63', '01140034_42', '01140052_12')\n",
            "('01140021_63', '01140034_42', '01140052_13')\n",
            "('01140021_63', '01140034_42', '01140052_21')\n",
            "('01140021_63', '01140034_42', '01140052_23')\n",
            "('01140021_63', '01140034_42', '01140052_24')\n",
            "('01140021_63', '01140034_42', '01140052_86')\n",
            "Group rating:\n",
            "01140021_19: 5\n",
            "01140021_42: 0\n",
            "01140021_43: 0\n",
            "01140021_54: 0\n",
            "01140021_55: 0\n",
            "01140021_63: 6\n",
            "01140034_42: 11\n",
            "01140052_12: 2\n",
            "01140052_13: 2\n",
            "01140052_15: 0\n",
            "01140052_21: 2\n",
            "01140052_23: 1\n",
            "01140052_24: 2\n",
            "01140052_86: 2\n"
          ]
        }
      ]
    },
    {
      "cell_type": "code",
      "source": [],
      "metadata": {
        "id": "cVXQ_HwNO13w"
      },
      "execution_count": null,
      "outputs": []
    }
  ]
}