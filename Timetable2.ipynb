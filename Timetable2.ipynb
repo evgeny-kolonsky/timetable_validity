{
  "nbformat": 4,
  "nbformat_minor": 0,
  "metadata": {
    "colab": {
      "provenance": [],
      "authorship_tag": "ABX9TyPTUgH75CbSrDkm3NgWlIz5",
      "include_colab_link": true
    },
    "kernelspec": {
      "name": "python3",
      "display_name": "Python 3"
    },
    "language_info": {
      "name": "python"
    }
  },
  "cells": [
    {
      "cell_type": "markdown",
      "metadata": {
        "id": "view-in-github",
        "colab_type": "text"
      },
      "source": [
        "<a href=\"https://colab.research.google.com/github/tphlabs/timetable_validity/blob/main/Timetable2.ipynb\" target=\"_parent\"><img src=\"https://colab.research.google.com/assets/colab-badge.svg\" alt=\"Open In Colab\"/></a>"
      ]
    },
    {
      "cell_type": "markdown",
      "source": [
        "# Generate groups\n",
        "\n",
        "v.0.1.1\n",
        "\n",
        "Physics Dept 2023/2024:[Catalogue](https://ugportal.technion.ac.il/wp-content/uploads/2024/02/11-%D7%A4%D7%99%D7%96%D7%99%D7%A7%D7%94-%D7%AA%D7%A9%D7%A4%D7%B4%D7%93.pdf):"
      ],
      "metadata": {
        "id": "HuWp6AKYvhra"
      }
    },
    {
      "cell_type": "code",
      "source": [
        "import requests\n",
        "import json\n",
        "import numpy as np\n",
        "import itertools\n",
        "\n",
        "# full catalogue of courses fetched from SAP\n",
        "# semester 2024_201 (winter 24/25)\n",
        "# source code: https://github.com/michael-maltsev/technion-sap-info-fetcher\n",
        "url = 'https://raw.githubusercontent.com/tphlabs/timetable_validity/main/2024_201.json'\n",
        "response = requests.get(url)\n",
        "data = json.loads(response.text)\n",
        "print(f'Loaded {len(data)} courses')"
      ],
      "metadata": {
        "colab": {
          "base_uri": "https://localhost:8080/"
        },
        "id": "cmGP6CUkv-hR",
        "outputId": "d91b1e4f-f512-443b-8c50-5d8e627e7b2f"
      },
      "execution_count": 2,
      "outputs": [
        {
          "output_type": "stream",
          "name": "stdout",
          "text": [
            "Loaded 1058 courses\n"
          ]
        }
      ]
    },
    {
      "cell_type": "markdown",
      "source": [
        "Semester 1:\n",
        "![image.png](data:image/png;base64,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)"
      ],
      "metadata": {
        "id": "0iZ8UljFxi8V"
      }
    },
    {
      "cell_type": "code",
      "source": [
        "semester1 = ['01040012', '01040064', '01140074','02340128']\n",
        "\n",
        "courses = [course for course in data if course['general']['מספר מקצוע'] in semester1]"
      ],
      "metadata": {
        "id": "V1_y7rRdxkpe"
      },
      "execution_count": 3,
      "outputs": []
    },
    {
      "cell_type": "code",
      "source": [
        "with open('physics-semester1.json', 'w', encoding='utf-8') as f:\n",
        "    json.dump(courses, f, ensure_ascii=False, indent=2)"
      ],
      "metadata": {
        "id": "hGrP-Sx2yPa0"
      },
      "execution_count": 4,
      "outputs": []
    },
    {
      "cell_type": "markdown",
      "source": [
        ".... clean up and upload to github ...."
      ],
      "metadata": {
        "id": "YciGqYRl2tve"
      }
    },
    {
      "cell_type": "code",
      "source": [
        "url = 'https://raw.githubusercontent.com/tphlabs/timetable_validity/main/physics-semester1.json'\n",
        "response = requests.get(url)\n",
        "data = json.loads(response.text)\n",
        "print(f'Loaded {len(data)} courses')"
      ],
      "metadata": {
        "id": "xEXpQU8OyWOd",
        "colab": {
          "base_uri": "https://localhost:8080/"
        },
        "outputId": "59ec4688-7ecb-436b-92c7-c24821573fdb"
      },
      "execution_count": 5,
      "outputs": [
        {
          "output_type": "stream",
          "name": "stdout",
          "text": [
            "Loaded 4 courses\n"
          ]
        }
      ]
    },
    {
      "cell_type": "code",
      "source": [
        "# function to make hoursmap as 2d np array days x hours\n",
        "# we read day and hours out of text description in timeslot\n",
        "# suggested that all timeslots start and xx:30, between 08:30 and 19:30,\n",
        "# which is not quite so for all published courses (sports may be exception)\n",
        "\n",
        "WEEK = ['ראשון','שני','שלישי','רביעי','חמישי']\n",
        "SLOTS = [f'{h:02d}:30' for  h in range(8, 18)] # 1 hour slots\n",
        "\n",
        "def EMPTY_MAP():\n",
        "  return np.zeros((len(WEEK), len(SLOTS)), dtype=int)\n",
        "\n",
        "def parse_slot(slot):\n",
        "  group_type = slot['סוג']\n",
        "  group_number = slot['קבוצה']\n",
        "  group_hour = slot['שעה']\n",
        "  group_day = slot['יום']\n",
        "  hours_map = EMPTY_MAP()\n",
        "  hours_from, hours_to = group_hour.split(' - ')\n",
        "  if hours_from not in SLOTS or hours_to not in SLOTS:\n",
        "    # error message: irregular hours\n",
        "    return 0\n",
        "  hours_from_ind, hours_to_ind = SLOTS.index(hours_from), SLOTS.index(hours_to)\n",
        "  days_ind = WEEK.index(group_day)\n",
        "  hours_map[days_ind, hours_from_ind:hours_to_ind] = 1\n",
        "  return hours_map"
      ],
      "metadata": {
        "id": "CXmNpRmb3Bbn"
      },
      "execution_count": 6,
      "outputs": []
    },
    {
      "cell_type": "code",
      "source": [
        "# make activities for basic courses\n",
        "activity = {}\n",
        "\n",
        "for course in data:\n",
        "  course_id = course['general']['מספר מקצוע']\n",
        "\n",
        "  activity[course_id] = {}\n",
        "  slots = course['schedule']\n",
        "  for slot in slots:\n",
        "    group_id = str(slot['קבוצה'])\n",
        "\n",
        "    activity[course_id][group_id] = \\\n",
        "      activity[course_id].get(group_id, EMPTY_MAP()) + parse_slot(slot)\n"
      ],
      "metadata": {
        "id": "-uxCTIhi4XTS"
      },
      "execution_count": 7,
      "outputs": []
    },
    {
      "cell_type": "code",
      "source": [
        "laboratory = '114020'\n",
        "activity[laboratory] = {}\n",
        "for day in range(len(WEEK)):\n",
        "  for hour in [0,1, 3,4, 6,7]:\n",
        "    hourmap = EMPTY_MAP()\n",
        "    hourmap[day,hour:hour+3] = 1\n",
        "    groupname = f'{day+1}.{SLOTS[hour][:3]}'\n",
        "    #print(f'{groupname}\\n {hourmap}')\n",
        "    activity[laboratory][groupname] = hourmap"
      ],
      "metadata": {
        "collapsed": true,
        "id": "CBaLKVo64iVD"
      },
      "execution_count": 10,
      "outputs": []
    },
    {
      "cell_type": "code",
      "source": [
        "# here is the cell  where all possible combination of groups for each activity are created\n",
        "# and checked against feasibility by aggregating their hour maps\n",
        "# feasible combination has only ones and zeroes in aggregated hours map\n",
        "# 2 and more means activities overlapping\n",
        "\n",
        "# list of iterators: for each course all groups\n",
        "combins = [\n",
        "            [f'{course}_{group}' for group in activity[course]]\n",
        "            for course in activity.keys()\n",
        "         ]\n",
        "\n",
        "\n",
        "rating = {} # group rating counter\n",
        "\n",
        "#print('Feasible combinations:')\n",
        "for combination in itertools.product(*combins):\n",
        "    # init hourmap with zeroes\n",
        "    check = EMPTY_MAP()\n",
        "\n",
        "    for group in combination:\n",
        "      # init counter if met 1st time\n",
        "      rating[group] = rating.get(group, 0)\n",
        "      # extract course and group ids from element in combinations\n",
        "      course_id, group_id = group.split('_')\n",
        "      # aggregate hours for groups in combination\n",
        "      check += activity[course_id][group_id]\n",
        "    # check aggregated hourmap against overload criterion\n",
        "    if np.sum(check > 1) > 0: #\n",
        "      continue\n",
        "    # print out combination that meets feasibility criteria\n",
        "    #print(combination)\n",
        "    #print(check)\n",
        "\n",
        "    # aggregate rating counter\n",
        "    for group in combination:\n",
        "      rating[group] += 1\n",
        "\n",
        "print('Group rating:')\n",
        "for group in sorted(rating):\n",
        "  print(f'{group}: {rating[group]}')"
      ],
      "metadata": {
        "colab": {
          "base_uri": "https://localhost:8080/"
        },
        "collapsed": true,
        "id": "cXAZPMKa4m3W",
        "outputId": "38f9a109-e871-4f3d-96c6-586d78818dc2"
      },
      "execution_count": 11,
      "outputs": [
        {
          "output_type": "stream",
          "name": "stdout",
          "text": [
            "Group rating:\n",
            "01040012_61: 1177\n",
            "01040012_62: 500\n",
            "01040012_63: 875\n",
            "01040064_11: 0\n",
            "01040064_12: 0\n",
            "01040064_13: 0\n",
            "01040064_21: 810\n",
            "01040064_23: 478\n",
            "01040064_24: 784\n",
            "01040064_31: 0\n",
            "01040064_32: 480\n",
            "01040064_33: 0\n",
            "01140074_11: 741\n",
            "01140074_12: 440\n",
            "01140074_13: 499\n",
            "01140074_14: 872\n",
            "02340128_11: 328\n",
            "02340128_12: 164\n",
            "02340128_13: 194\n",
            "02340128_21: 469\n",
            "02340128_22: 0\n",
            "02340128_23: 303\n",
            "02340128_24: 505\n",
            "02340128_32: 0\n",
            "02340128_33: 97\n",
            "02340128_41: 249\n",
            "02340128_42: 0\n",
            "02340128_43: 243\n",
            "114020_1.08:: 69\n",
            "114020_1.09:: 69\n",
            "114020_1.11:: 105\n",
            "114020_1.12:: 81\n",
            "114020_1.14:: 131\n",
            "114020_1.15:: 131\n",
            "114020_2.08:: 78\n",
            "114020_2.09:: 78\n",
            "114020_2.11:: 50\n",
            "114020_2.12:: 19\n",
            "114020_2.14:: 38\n",
            "114020_2.15:: 38\n",
            "114020_3.08:: 0\n",
            "114020_3.09:: 0\n",
            "114020_3.11:: 0\n",
            "114020_3.12:: 84\n",
            "114020_3.14:: 224\n",
            "114020_3.15:: 224\n",
            "114020_4.08:: 13\n",
            "114020_4.09:: 13\n",
            "114020_4.11:: 126\n",
            "114020_4.12:: 176\n",
            "114020_4.14:: 121\n",
            "114020_4.15:: 121\n",
            "114020_5.08:: 0\n",
            "114020_5.09:: 0\n",
            "114020_5.11:: 0\n",
            "114020_5.12:: 115\n",
            "114020_5.14:: 224\n",
            "114020_5.15:: 224\n"
          ]
        }
      ]
    },
    {
      "cell_type": "code",
      "source": [],
      "metadata": {
        "id": "3STieiuZ7euu"
      },
      "execution_count": null,
      "outputs": []
    }
  ]
}