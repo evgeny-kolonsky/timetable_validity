{
  "nbformat": 4,
  "nbformat_minor": 0,
  "metadata": {
    "colab": {
      "provenance": [],
      "authorship_tag": "ABX9TyODlSKD1f7u2u6/Oh2KA4MZ",
      "include_colab_link": true
    },
    "kernelspec": {
      "name": "python3",
      "display_name": "Python 3"
    },
    "language_info": {
      "name": "python"
    }
  },
  "cells": [
    {
      "cell_type": "markdown",
      "metadata": {
        "id": "view-in-github",
        "colab_type": "text"
      },
      "source": [
        "<a href=\"https://colab.research.google.com/github/evgeny-kolonsky/timetable_validity/blob/main/Timetable2.ipynb\" target=\"_parent\"><img src=\"https://colab.research.google.com/assets/colab-badge.svg\" alt=\"Open In Colab\"/></a>"
      ]
    },
    {
      "cell_type": "markdown",
      "source": [
        "# Generate groups and calculate rating\n",
        "\n",
        "Evgeny Kolonsky  v.0.3.6\n",
        "\n"
      ],
      "metadata": {
        "id": "HuWp6AKYvhra"
      }
    },
    {
      "cell_type": "code",
      "source": [
        "import requests\n",
        "import json\n",
        "import numpy as np\n",
        "import pandas as pd\n",
        "import itertools"
      ],
      "metadata": {
        "id": "fOGDZGlEX1rO"
      },
      "execution_count": 21,
      "outputs": []
    },
    {
      "cell_type": "markdown",
      "source": [
        "# Import from json\n",
        "\n",
        "Full catalogue of courses loaded from SAP with [fetcher](https://github.com/michael-maltsev/technion-sap-info-fetcher) written by Michael Maltsev."
      ],
      "metadata": {
        "id": "TYoknji-W-a4"
      }
    },
    {
      "cell_type": "code",
      "source": [
        "# function to make hoursmap as 2d np array days x hours\n",
        "# we read day and hours out of text description in timeslot\n",
        "# suggested that all timeslots start and xx:30, between 08:30 and 19:30,\n",
        "# which is not quite so for all published courses (sports may be exception)\n",
        "\n",
        "WEEK = ['ראשון','שני','שלישי','רביעי','חמישי']\n",
        "SLOTS = [f'{h:02d}:30' for  h in range(8, 20)] # 1 hour slots\n",
        "\n",
        "\n",
        "def EMPTY_MAP():\n",
        "  return np.zeros((len(WEEK), len(SLOTS)), dtype=int)\n",
        "\n",
        "\n",
        "def parse_slot(slot:dict):\n",
        "  group_hour = slot['hour']\n",
        "  group_day = slot['day']\n",
        "  hours_map = EMPTY_MAP()\n",
        "  hours_from, hours_to = group_hour.replace(' ', '').split('-')\n",
        "  if hours_from not in SLOTS or hours_to not in SLOTS:\n",
        "    # error message: irregular hours\n",
        "    #raise Exception(f'WARNING! irregular hours: {group_hour} {group_day}')\n",
        "    return hours_map # zero\n",
        "  hours_from_ind, hours_to_ind = SLOTS.index(hours_from), SLOTS.index(hours_to)\n",
        "  days_ind = WEEK.index(group_day)\n",
        "  hours_map[days_ind, hours_from_ind:hours_to_ind] = 1\n",
        "  return hours_map\n",
        "\n",
        "class schedule:\n",
        "\n",
        "  def __init__(self, slots=[]) -> None:\n",
        "      self.hourmap = EMPTY_MAP()\n",
        "      if len(slots) > 0:\n",
        "        for slot in slots:\n",
        "          self.hourmap += parse_slot(slot)\n",
        "\n",
        "  def __add__(self, other):\n",
        "    return schedule(self.hourmap + other.hourmap)\n",
        "\n",
        "  def __mul__(self, other):\n",
        "    # returns non-zero in case of overlapping\n",
        "    return np.sum(self.hourmap * other.hourmap)\n",
        "\n",
        "  def overload(self):\n",
        "    # return non-zero if there are slots with load > 1\n",
        "    return np.sum(self.hourmap > 1) > 0\n",
        "\n",
        "  # calculate amount of hours the student have to spend in campus\n",
        "  # including the time between classes\n",
        "  def hours_in_campus(self):\n",
        "    ans = 0\n",
        "    for i in range(len(WEEK)):\n",
        "      day = self.hourmap[i, :]\n",
        "      nz = np.nonzero(day)[0]\n",
        "      if nz.size > 0:\n",
        "        start = np.min(nz)\n",
        "        end = np.max(nz)\n",
        "        ans += end - start + 1\n",
        "    return ans\n",
        "\n",
        "  def hours_of_studies(self):\n",
        "    return np.sum(self.hourmap)\n",
        "\n",
        "  # a number between 0 and 1\n",
        "  # shows a share of hours in classes to hours in campus\n",
        "  # for thight schedule close to 1\n",
        "  # for long breaks between classes less than 1\n",
        "  def score(self):\n",
        "    hos = self.hours_of_studies()\n",
        "    hic = self.hours_in_campus()\n",
        "    if hic > 0:\n",
        "      return hos / hic\n",
        "    else:\n",
        "      return 0\n",
        "\n",
        "\n",
        "  def __str__(self):\n",
        "    symbols = ['.', 'x', 'X'] # represent digits as symbols\n",
        "    text = ''\n",
        "    for i, day in enumerate(WEEK):\n",
        "      text += f'{i+1:1d}'\n",
        "      for j, hour in enumerate(SLOTS):\n",
        "        if j % 3 == 0: # insert spacing for readbility\n",
        "          #text += ' '\n",
        "          pass\n",
        "        value = self.hourmap[i, j] # 0, 1 or more\n",
        "        if value > 2:\n",
        "          value = 2\n",
        "        text += f'{symbols[value]}'\n",
        "      text += '\\n'\n",
        "    return text\n",
        "\n",
        "#print(schedule())"
      ],
      "metadata": {
        "id": "9KXWoi65mU43"
      },
      "execution_count": 22,
      "outputs": []
    },
    {
      "cell_type": "markdown",
      "source": [
        "# Restricted slots\n",
        "\n",
        "- Technion:\n",
        "  - Sunday 08:30 do not use\n",
        "  - Wednesday 12:30 and 13:30 do not use\n",
        "- Physics:\n",
        "  - Monday 14:30 do not use\n",
        "  - (?) Thursday 14:30 till end of the day do not use  - not applied"
      ],
      "metadata": {
        "id": "Uiwd2galHoeN"
      }
    },
    {
      "cell_type": "code",
      "source": [
        "RESTRICTED_SLOTS = []\n",
        "\n",
        "# Technion rules\n",
        "# 1. Sunday 08:30 do not use\n",
        "slot = {}\n",
        "slot['day'] = WEEK[0]\n",
        "slot['hour'] = '08:30-09:30'\n",
        "RESTRICTED_SLOTS.append(slot)\n",
        "\n",
        "# 2. Wednesday 12:30 and 13:30 do not use\n",
        "slot = {}\n",
        "slot['day'] = WEEK[3]\n",
        "slot['hour'] = '12:30-14:30'\n",
        "RESTRICTED_SLOTS.append(slot)\n",
        "\n",
        "# Physics rules\n",
        "# 3. Monday 14:30 do not use\n",
        "slot = {}\n",
        "slot['day'] = WEEK[1]\n",
        "slot['hour'] = '14:30-15:30'\n",
        "RESTRICTED_SLOTS.append(slot)\n",
        "\n",
        "RESTRICTED_MAP = schedule(RESTRICTED_SLOTS)\n",
        "print(RESTRICTED_MAP)"
      ],
      "metadata": {
        "id": "g4E22ldbHX1M",
        "outputId": "f5602f55-046b-477b-dcb4-c5bd25655934",
        "colab": {
          "base_uri": "https://localhost:8080/"
        }
      },
      "execution_count": 23,
      "outputs": [
        {
          "output_type": "stream",
          "name": "stdout",
          "text": [
            "1x...........\n",
            "2......x.....\n",
            "3............\n",
            "4....xx......\n",
            "5............\n",
            "\n"
          ]
        }
      ]
    },
    {
      "cell_type": "markdown",
      "source": [
        "# Import from xlsx\n",
        "\n",
        "Excel file exported from SAP Miscal user interface by Larisa Koloskova."
      ],
      "metadata": {
        "id": "2_hK3jrBXEqQ"
      }
    },
    {
      "cell_type": "code",
      "source": [
        "url = 'https://raw.githubusercontent.com/evgeny-kolonsky/timetable_validity/main/2025_201.XLSX'\n",
        "df = pd.read_excel(url)\n",
        "\n",
        "excluded_groups = ['77']"
      ],
      "metadata": {
        "id": "uZLMT90cXIwX"
      },
      "execution_count": 24,
      "outputs": []
    },
    {
      "cell_type": "markdown",
      "source": [
        "Class definition for groups combination"
      ],
      "metadata": {
        "id": "YkaC92Nz7ecG"
      }
    },
    {
      "cell_type": "code",
      "source": [
        "class Combination():\n",
        "\n",
        "  def __init__(self, combination: tuple):\n",
        "    self.groups = []\n",
        "    for group_name in combination:\n",
        "      course_id, group_id = group_name.split('_')\n",
        "      course_id = int(course_id)\n",
        "      # Check if the course and group exist in the catalogue before accessing\n",
        "      if course_id in catalogue and group_id in catalogue[course_id]['groups']:\n",
        "        group = catalogue[course_id]['groups'][group_id]\n",
        "        self.groups.append(group)\n",
        "      else:\n",
        "        print(f\"WARNING: Course {course_id} or group {group_id} not found in catalogue. Skipping this combination.\")\n",
        "\n",
        "  def capacity(self):\n",
        "      # Return a default value if self.groups is empty to avoid the ValueError\n",
        "      return np.min([group['group_capacity'] for group in self.groups]) if self.groups else float('inf')\n",
        "\n",
        "  #def enrolled(self):\n",
        "  #  return np.min([group['group_enrolled'] for group in self.groups])\n",
        "\n",
        "  def __str__(self):\n",
        "    def printme(group):\n",
        "      return f'{group[\"id\"]}'\n",
        "\n",
        "    return ', '.join([printme(group) for group in self.groups])\n",
        "\n",
        "\n",
        "def calculate_rating(semester):\n",
        "  not_found = [x for x in semester if x not in catalogue]\n",
        "  if len(not_found) > 0:\n",
        "    print('WARNING! Courses not found in catalogue:', not_found)\n",
        "\n",
        "  basic_courses = {course_id: catalogue[course_id] for course_id in semester}\n",
        "\n",
        "\n",
        "  # Generate all possible combinations of basic courses\n",
        "  # and for each combination test it's feasibility\n",
        "\n",
        "  choises = [[\n",
        "                f'{course}_{group}'\n",
        "                for group in basic_courses[course]['groups']\n",
        "              ]\n",
        "              for course in basic_courses.keys()]\n",
        "\n",
        "  #score = {}\n",
        "  #count = {}\n",
        "  text = f'test_slot , {\",\".join([str(x) for x in semester])} , Su, Mo, Tu, We, Th, hours_in_campus\\n'\n",
        "\n",
        "  for test_slot in lab_course:\n",
        "    s0 = lab_course[test_slot]\n",
        "    #count[test_slot] = 0\n",
        "    #score[test_slot] = 0\n",
        "\n",
        "    for combination in itertools.product(*choises):\n",
        "      s  = schedule()\n",
        "      s.hourmap = np.copy(s0.hourmap) # total\n",
        "      # integrate hourmap for chosen combination of groups\n",
        "\n",
        "      for group in combination:\n",
        "        # extract course and group ids from element in combinations\n",
        "        course_id, group_id = group.split('_')\n",
        "        course_id = int(course_id)\n",
        "\n",
        "        slots = basic_courses[course_id]['groups'][group_id]['slots']\n",
        "        s.hourmap += schedule(slots).hourmap\n",
        "\n",
        "      if not s.overload():\n",
        "        #count[test_slot] += 1\n",
        "        # log to multiline text\n",
        "        #score[test_slot] += s.score()\n",
        "        stxt = s.__str__().replace('\\n',',')\n",
        "        combo = Combination(combination)\n",
        "        text += f'{test_slot} , {combo.__str__()} , {stxt} {s.hours_in_campus()} \\n'\n",
        "\n",
        "  return text\n",
        "\n",
        "\n",
        "def load_catalogue(url, allowed_groups):\n",
        "\n",
        "  catalogue = {} # from dataframe to json\n",
        "\n",
        "  # loop over events\n",
        "  for _, event in df.iterrows():\n",
        "\n",
        "    course_id = event['מקצוע']\n",
        "    if catalogue.get(course_id) is None:\n",
        "      catalogue[course_id] = {}\n",
        "      catalogue[course_id]['name'] = event['תיאור מקצוע עברית']\n",
        "      catalogue[course_id]['id'] = course_id\n",
        "      catalogue[course_id]['groups'] = {}\n",
        "\n",
        "    group_name = event['תיאור חבילת רישום']\n",
        "    if pd.isna(group_name):\n",
        "      continue\n",
        "    group_id = group_name.split()[0]\n",
        "\n",
        "    # Get rid of groups having names with prohibited substrings, like 77 - group for Chinese\n",
        "    if any(x in str(group_name) for x in excluded_groups):\n",
        "      continue\n",
        "\n",
        "    # check if course has restrictions for allowed groups\n",
        "    if (course_id in allowed_groups) and (group_id not in allowed_groups[course_id]):\n",
        "      continue\n",
        "\n",
        "    group_capacity = event['קיבולת חבילת רישום']\n",
        "    #group_enrolled = event['מספר רשומים UG']\n",
        "    # get rid of groups having zero capacity\n",
        "    if group_capacity == 0:\n",
        "      continue\n",
        "\n",
        "    if catalogue[course_id]['groups'].get(group_id) is None:\n",
        "      catalogue[course_id]['groups'][group_id] = {}\n",
        "      catalogue[course_id]['groups'][group_id]['group_capacity'] = group_capacity\n",
        "      #catalogue[course_id]['groups'][group_id]['group_enrolled'] = group_enrolled\n",
        "      catalogue[course_id]['groups'][group_id]['id'] = group_id\n",
        "      catalogue[course_id]['groups'][group_id]['slots'] = []\n",
        "\n",
        "    # loop over columns to choose non-empty slot\n",
        "    for group_day in ['ראשון','שני','שלישי','רביעי','חמישי']:\n",
        "      group_hour = event[group_day]\n",
        "      if not pd.isna(group_hour):\n",
        "        slot = {}\n",
        "        slot['hour'] = group_hour\n",
        "        slot['day'] = group_day\n",
        "        slot['type'] = event['סוג אירוע D']\n",
        "        catalogue[course_id]['groups'][group_id]['slots'].append(slot)\n",
        "\n",
        "  print(f'Loaded {len(catalogue)} courses')\n",
        "\n",
        "  return catalogue\n",
        "\n",
        "\n",
        "# Generate all possible slots for a new lab course\n",
        "lab_course = {}\n",
        "for i, day in enumerate(WEEK):\n",
        "  for hours_from in ['08:30', '09:30', '11:30', '12:30', '14:30', '15:30']:\n",
        "    hours_from_ind = SLOTS.index(hours_from)\n",
        "    hours_to_ind = hours_from_ind + 3\n",
        "    slot_hours_text = f'{SLOTS[hours_from_ind]}-{SLOTS[hours_to_ind]}'\n",
        "    slot_name = f'day{i+1}.{hours_from}'\n",
        "    slot = {}\n",
        "    slot['day'] = day\n",
        "    slot['hour'] = slot_hours_text\n",
        "    s = schedule([slot])\n",
        "    # skip overlapped with restricted hours\n",
        "    if s * RESTRICTED_MAP == 0:\n",
        "      lab_course[slot_name] = s\n",
        "      print(f'{slot_name}')\n",
        "      #print(s)\n"
      ],
      "metadata": {
        "id": "YhVV9gtY7eAe",
        "colab": {
          "base_uri": "https://localhost:8080/"
        },
        "outputId": "6d9176eb-1cf1-4b9e-ac7a-eaee7d67b297"
      },
      "execution_count": 25,
      "outputs": [
        {
          "output_type": "stream",
          "name": "stdout",
          "text": [
            "day1.09:30\n",
            "day1.11:30\n",
            "day1.12:30\n",
            "day1.14:30\n",
            "day1.15:30\n",
            "day2.08:30\n",
            "day2.09:30\n",
            "day2.11:30\n",
            "day2.15:30\n",
            "day3.08:30\n",
            "day3.09:30\n",
            "day3.11:30\n",
            "day3.12:30\n",
            "day3.14:30\n",
            "day3.15:30\n",
            "day4.08:30\n",
            "day4.09:30\n",
            "day4.14:30\n",
            "day4.15:30\n",
            "day5.08:30\n",
            "day5.09:30\n",
            "day5.11:30\n",
            "day5.12:30\n",
            "day5.14:30\n",
            "day5.15:30\n"
          ]
        }
      ]
    },
    {
      "cell_type": "code",
      "source": [
        "\n"
      ],
      "metadata": {
        "collapsed": true,
        "id": "aQLPgxTxPdhj"
      },
      "execution_count": 25,
      "outputs": []
    },
    {
      "cell_type": "markdown",
      "source": [
        "# Semester 1"
      ],
      "metadata": {
        "id": "8hHW9Uj4m7KF"
      }
    },
    {
      "cell_type": "code",
      "source": [
        "semester = [1040012, 1040064, 1140074, 2340128, 1040000]\n",
        "\n",
        "\n",
        "allowed_groups = {}\n",
        "allowed_groups[1040012] = {'SE031', 'SE033', 'SE051', 'SE052', 'SE053', 'SE054'}\n",
        "\n",
        "catalogue = load_catalogue(url, allowed_groups)\n",
        "\n",
        "\n",
        "text = calculate_rating(semester)\n",
        "\n",
        "\n",
        "with open('semester1.csv', 'w', encoding='utf-8') as f:\n",
        "    f.write(text)"
      ],
      "metadata": {
        "id": "d_kxjbdamF_v",
        "outputId": "555b1703-2cbc-4dfc-998b-1e5858d77b4c",
        "colab": {
          "base_uri": "https://localhost:8080/"
        },
        "collapsed": true
      },
      "execution_count": 26,
      "outputs": [
        {
          "output_type": "stream",
          "name": "stdout",
          "text": [
            "Loaded 71 courses\n"
          ]
        }
      ]
    },
    {
      "cell_type": "code",
      "source": [],
      "metadata": {
        "id": "bMzE4OuXNn1F"
      },
      "execution_count": 26,
      "outputs": []
    }
  ]
}